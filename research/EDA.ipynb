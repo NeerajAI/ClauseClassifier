{
 "cells": [
  {
   "cell_type": "code",
   "execution_count": 1,
   "metadata": {},
   "outputs": [
    {
     "name": "stdout",
     "output_type": "stream",
     "text": [
      "/Users/apple/Desktop/Desktop/AIML/TextMiningPipeline/ClauseClassifier/research\n"
     ]
    }
   ],
   "source": [
    "import pandas as pd\n",
    "import os \n",
    "print(os.getcwd())"
   ]
  },
  {
   "cell_type": "code",
   "execution_count": 2,
   "metadata": {},
   "outputs": [],
   "source": [
    "os.chdir(\"../\")"
   ]
  },
  {
   "cell_type": "code",
   "execution_count": 3,
   "metadata": {},
   "outputs": [
    {
     "data": {
      "text/plain": [
       "'/Users/apple/Desktop/Desktop/AIML/TextMiningPipeline/ClauseClassifier'"
      ]
     },
     "execution_count": 3,
     "metadata": {},
     "output_type": "execute_result"
    }
   ],
   "source": [
    "os.getcwd()"
   ]
  },
  {
   "cell_type": "code",
   "execution_count": 4,
   "metadata": {},
   "outputs": [],
   "source": [
    "data = pd.read_excel(\"artifacts/data_ingestion/master_clauses.csv\")"
   ]
  },
  {
   "cell_type": "code",
   "execution_count": 5,
   "metadata": {},
   "outputs": [
    {
     "data": {
      "text/html": [
       "<div>\n",
       "<style scoped>\n",
       "    .dataframe tbody tr th:only-of-type {\n",
       "        vertical-align: middle;\n",
       "    }\n",
       "\n",
       "    .dataframe tbody tr th {\n",
       "        vertical-align: top;\n",
       "    }\n",
       "\n",
       "    .dataframe thead th {\n",
       "        text-align: right;\n",
       "    }\n",
       "</style>\n",
       "<table border=\"1\" class=\"dataframe\">\n",
       "  <thead>\n",
       "    <tr style=\"text-align: right;\">\n",
       "      <th></th>\n",
       "      <th>Filename</th>\n",
       "      <th>Clause Text</th>\n",
       "      <th>Clause</th>\n",
       "    </tr>\n",
       "  </thead>\n",
       "  <tbody>\n",
       "    <tr>\n",
       "      <th>0</th>\n",
       "      <td>IdeanomicsInc_20160330_10-K_EX-10.26_9512211_E...</td>\n",
       "      <td>If, during the Term, Licensor develops or obta...</td>\n",
       "      <td>ROFR-ROFO-ROFN</td>\n",
       "    </tr>\n",
       "    <tr>\n",
       "      <th>1</th>\n",
       "      <td>EdietsComInc_20001030_10QSB_EX-10.4_2606646_EX...</td>\n",
       "      <td>During the Term, Women.com agrees to give eDie...</td>\n",
       "      <td>ROFR-ROFO-ROFN</td>\n",
       "    </tr>\n",
       "    <tr>\n",
       "      <th>2</th>\n",
       "      <td>MusclepharmCorp_20170208_10-KA_EX-10.38_989358...</td>\n",
       "      <td>During the Term (including any renewal Term, i...</td>\n",
       "      <td>ROFR-ROFO-ROFN</td>\n",
       "    </tr>\n",
       "    <tr>\n",
       "      <th>3</th>\n",
       "      <td>ConformisInc_20191101_10-Q_EX-10.6_11861402_EX...</td>\n",
       "      <td>Notwithstanding the foregoing, in the event th...</td>\n",
       "      <td>ROFR-ROFO-ROFN</td>\n",
       "    </tr>\n",
       "    <tr>\n",
       "      <th>4</th>\n",
       "      <td>FuelcellEnergyInc_20191106_8-K_EX-10.1_1186800...</td>\n",
       "      <td>Notwithstanding the foregoing, in the event Ex...</td>\n",
       "      <td>ROFR-ROFO-ROFN</td>\n",
       "    </tr>\n",
       "    <tr>\n",
       "      <th>...</th>\n",
       "      <td>...</td>\n",
       "      <td>...</td>\n",
       "      <td>...</td>\n",
       "    </tr>\n",
       "    <tr>\n",
       "      <th>4271</th>\n",
       "      <td>SPORTHALEYINC_09_29_1997-EX-10.2-10-ENDORSEMEN...</td>\n",
       "      <td>The          Company shall have unlimited righ...</td>\n",
       "      <td>Unlimited/All-You-Can-Eat License</td>\n",
       "    </tr>\n",
       "    <tr>\n",
       "      <th>4272</th>\n",
       "      <td>CORIOINC_07_20_2000-EX-10.5-LICENSE AND HOSTIN...</td>\n",
       "      <td>Subject to the terms and conditions of this   ...</td>\n",
       "      <td>Unlimited/All-You-Can-Eat License</td>\n",
       "    </tr>\n",
       "    <tr>\n",
       "      <th>4273</th>\n",
       "      <td>CHANGEPOINTCORP_03_08_2000-EX-10.6-LICENSE AND...</td>\n",
       "      <td>Subject to the terms and conditions of this   ...</td>\n",
       "      <td>Unlimited/All-You-Can-Eat License</td>\n",
       "    </tr>\n",
       "    <tr>\n",
       "      <th>4274</th>\n",
       "      <td>VERTICALNETINC_04_01_2002-EX-10.19-MAINTENANCE...</td>\n",
       "      <td>Except as the parties may otherwise agree in w...</td>\n",
       "      <td>Unlimited/All-You-Can-Eat License</td>\n",
       "    </tr>\n",
       "    <tr>\n",
       "      <th>4275</th>\n",
       "      <td>BIOAMBERINC_04_10_2013-EX-10.34-DEVELOPMENT AG...</td>\n",
       "      <td>Bioamber hereby grants Cargill, and Cargill he...</td>\n",
       "      <td>Unlimited/All-You-Can-Eat License</td>\n",
       "    </tr>\n",
       "  </tbody>\n",
       "</table>\n",
       "<p>4276 rows × 3 columns</p>\n",
       "</div>"
      ],
      "text/plain": [
       "                                               Filename  \\\n",
       "0     IdeanomicsInc_20160330_10-K_EX-10.26_9512211_E...   \n",
       "1     EdietsComInc_20001030_10QSB_EX-10.4_2606646_EX...   \n",
       "2     MusclepharmCorp_20170208_10-KA_EX-10.38_989358...   \n",
       "3     ConformisInc_20191101_10-Q_EX-10.6_11861402_EX...   \n",
       "4     FuelcellEnergyInc_20191106_8-K_EX-10.1_1186800...   \n",
       "...                                                 ...   \n",
       "4271  SPORTHALEYINC_09_29_1997-EX-10.2-10-ENDORSEMEN...   \n",
       "4272  CORIOINC_07_20_2000-EX-10.5-LICENSE AND HOSTIN...   \n",
       "4273  CHANGEPOINTCORP_03_08_2000-EX-10.6-LICENSE AND...   \n",
       "4274  VERTICALNETINC_04_01_2002-EX-10.19-MAINTENANCE...   \n",
       "4275  BIOAMBERINC_04_10_2013-EX-10.34-DEVELOPMENT AG...   \n",
       "\n",
       "                                            Clause Text  \\\n",
       "0     If, during the Term, Licensor develops or obta...   \n",
       "1     During the Term, Women.com agrees to give eDie...   \n",
       "2     During the Term (including any renewal Term, i...   \n",
       "3     Notwithstanding the foregoing, in the event th...   \n",
       "4     Notwithstanding the foregoing, in the event Ex...   \n",
       "...                                                 ...   \n",
       "4271  The          Company shall have unlimited righ...   \n",
       "4272  Subject to the terms and conditions of this   ...   \n",
       "4273  Subject to the terms and conditions of this   ...   \n",
       "4274  Except as the parties may otherwise agree in w...   \n",
       "4275  Bioamber hereby grants Cargill, and Cargill he...   \n",
       "\n",
       "                                 Clause  \n",
       "0                        ROFR-ROFO-ROFN  \n",
       "1                        ROFR-ROFO-ROFN  \n",
       "2                        ROFR-ROFO-ROFN  \n",
       "3                        ROFR-ROFO-ROFN  \n",
       "4                        ROFR-ROFO-ROFN  \n",
       "...                                 ...  \n",
       "4271  Unlimited/All-You-Can-Eat License  \n",
       "4272  Unlimited/All-You-Can-Eat License  \n",
       "4273  Unlimited/All-You-Can-Eat License  \n",
       "4274  Unlimited/All-You-Can-Eat License  \n",
       "4275  Unlimited/All-You-Can-Eat License  \n",
       "\n",
       "[4276 rows x 3 columns]"
      ]
     },
     "execution_count": 5,
     "metadata": {},
     "output_type": "execute_result"
    }
   ],
   "source": [
    "data"
   ]
  },
  {
   "cell_type": "code",
   "execution_count": null,
   "metadata": {},
   "outputs": [],
   "source": []
  }
 ],
 "metadata": {
  "kernelspec": {
   "display_name": "clause",
   "language": "python",
   "name": "python3"
  },
  "language_info": {
   "codemirror_mode": {
    "name": "ipython",
    "version": 3
   },
   "file_extension": ".py",
   "mimetype": "text/x-python",
   "name": "python",
   "nbconvert_exporter": "python",
   "pygments_lexer": "ipython3",
   "version": "3.9.19"
  }
 },
 "nbformat": 4,
 "nbformat_minor": 2
}
